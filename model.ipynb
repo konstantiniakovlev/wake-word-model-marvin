{
 "cells": [
  {
   "cell_type": "code",
   "execution_count": 9,
   "metadata": {
    "collapsed": true
   },
   "outputs": [],
   "source": [
    "import tensorflow as tf\n",
    "\n",
    "from tensorflow.keras.models import Sequential\n",
    "from tensorflow.keras.layers import GRU, LSTM, Dense, TimeDistributed, Dropout, BatchNormalization, Conv1D\n",
    "from tensorflow.keras.optimizers import Adam\n",
    "from tensorflow.keras import initializers\n",
    "\n",
    "from scripts.layers import Spectrogram, MelSpectrogram, LogMelSpectrogram\n",
    "from scripts.metrics import Precision, Recall, F1\n",
    "\n",
    "import json\n",
    "import os"
   ]
  },
  {
   "cell_type": "code",
   "execution_count": 13,
   "outputs": [
    {
     "name": "stdout",
     "output_type": "stream",
     "text": [
      "Model: \"Trigger-word-Marvin-model\"\n",
      "_________________________________________________________________\n",
      " Layer (type)                Output Shape              Param #   \n",
      "=================================================================\n",
      " preprocessing_layer (Sequen  (None, 86, 64)           0         \n",
      " tial)                                                           \n",
      "                                                                 \n",
      " conv_layer (Sequential)     (None, 43, 32)            2080      \n",
      "                                                                 \n",
      " rnn_layer (Sequential)      (None, 128)               360960    \n",
      "                                                                 \n",
      " dense_layer (Sequential)    (None, 1)                 129       \n",
      "                                                                 \n",
      "=================================================================\n",
      "Total params: 363,169\n",
      "Trainable params: 362,401\n",
      "Non-trainable params: 768\n",
      "_________________________________________________________________\n",
      "None\n"
     ]
    }
   ],
   "source": [
    "# preprocessing parameters\n",
    "params = {'sample_rate': 22050,\n",
    "          'n_fft': 1000,\n",
    "          'hop_length': 256,\n",
    "          'frame_size': 256,  # ??\n",
    "          'n_mels': 64,\n",
    "          'min_freq': 0,\n",
    "          'max_freq': 8000,\n",
    "          'x_max': None,\n",
    "          'x_min': None,\n",
    "          'data_mean': None,\n",
    "          'data_std': None}\n",
    "\n",
    "with open('stats/params.json', 'w') as json_file:\n",
    "    json.dump(params, json_file)\n",
    "\n",
    "# model hyper parameters\n",
    "hparams = {'num_conv_filters': 32,\n",
    "           'conv_kernel_size': 1,\n",
    "           'conv_stride': 2,\n",
    "           'gru_units': 128,\n",
    "           'lr': 0.001,\n",
    "           'loss_function': 'binary_crossentropy',\n",
    "           'epochs': 100}\n",
    "\n",
    "with open('stats/hparams.json', 'w') as json_file:\n",
    "    json.dump(hparams, json_file)\n",
    "\n",
    "# optimizer\n",
    "optimizer = Adam(learning_rate=hparams['lr'])\n",
    "\n",
    "# metrics\n",
    "metrics = [\n",
    "    Precision,\n",
    "    Recall,\n",
    "    F1\n",
    "]\n",
    "\n",
    "# input\n",
    "model = Sequential(name='Trigger-word-Marvin-model')\n",
    "model.add(tf.keras.layers.Input(shape=(params['sample_rate'],),\n",
    "                                dtype=tf.float32))\n",
    "\n",
    "# preprocessing\n",
    "preprocessing = Sequential([\n",
    "    Spectrogram(params, hparams),\n",
    "    MelSpectrogram(params, hparams),\n",
    "    LogMelSpectrogram(params, hparams),\n",
    "], name='preprocessing_layer')\n",
    "model.add(preprocessing)\n",
    "\n",
    "# convolutional units\n",
    "conv = Sequential([\n",
    "    Conv1D(hparams['num_conv_filters'],\n",
    "           hparams['conv_kernel_size'],\n",
    "           hparams['conv_stride'])\n",
    "], name='conv_layer')\n",
    "model.add(conv)\n",
    "\n",
    "# recurrent units\n",
    "rnn = Sequential([\n",
    "    GRU(hparams['gru_units'], return_sequences=True),\n",
    "    BatchNormalization(),\n",
    "    GRU(hparams['gru_units'], return_sequences=True),\n",
    "    BatchNormalization(),\n",
    "    GRU(hparams['gru_units'], return_sequences=True),\n",
    "    BatchNormalization(),\n",
    "    GRU(hparams['gru_units'], return_sequences=False)\n",
    "], name='rnn_layer')\n",
    "model.add(rnn)\n",
    "\n",
    "# dense units\n",
    "dense = Sequential([\n",
    "    Dense(1, activation='sigmoid',\n",
    "          bias_initializer=initializers.Constant(-2.197))\n",
    "], name='dense_layer')\n",
    "model.add(dense)\n",
    "\n",
    "# compile model\n",
    "model.compile(\n",
    "    optimizer=optimizer,\n",
    "    loss=hparams['loss_function'],\n",
    "    metrics=metrics\n",
    "    )\n",
    "\n",
    "print(model.summary())"
   ],
   "metadata": {
    "collapsed": false,
    "pycharm": {
     "name": "#%%\n"
    }
   }
  },
  {
   "cell_type": "code",
   "execution_count": 12,
   "outputs": [],
   "source": [
    "# save model\n",
    "model_dir = 'models/'\n",
    "if not os.path.isdir(model_dir):\n",
    "        os.mkdir(model_dir)\n",
    "\n",
    "# serialize model to json\n",
    "model_json = model.to_json()\n",
    "with open(model_dir + 'marvin-model-struct.json', 'w') as json_file:\n",
    "    json_file.write(model_json)\n",
    "\n",
    "# serialize weights to HDF5\n",
    "model.save_weights(model_dir + 'marvin-model-init-weights.h5')\n"
   ],
   "metadata": {
    "collapsed": false,
    "pycharm": {
     "name": "#%%\n"
    }
   }
  }
 ],
 "metadata": {
  "kernelspec": {
   "display_name": "Python 3",
   "language": "python",
   "name": "python3"
  },
  "language_info": {
   "codemirror_mode": {
    "name": "ipython",
    "version": 2
   },
   "file_extension": ".py",
   "mimetype": "text/x-python",
   "name": "python",
   "nbconvert_exporter": "python",
   "pygments_lexer": "ipython2",
   "version": "2.7.6"
  }
 },
 "nbformat": 4,
 "nbformat_minor": 0
}