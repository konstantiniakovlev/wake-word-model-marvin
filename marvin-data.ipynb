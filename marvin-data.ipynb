{
 "cells": [
  {
   "cell_type": "code",
   "execution_count": 1,
   "metadata": {
    "collapsed": true
   },
   "outputs": [
    {
     "name": "stderr",
     "output_type": "stream",
     "text": [
      "C:\\Users\\Konstantin\\Anaconda3\\envs\\trigger-word-detection\\lib\\site-packages\\pydub\\utils.py:170: RuntimeWarning: Couldn't find ffmpeg or avconv - defaulting to ffmpeg, but may not work\n",
      "  warn(\"Couldn't find ffmpeg or avconv - defaulting to ffmpeg, but may not work\", RuntimeWarning)\n"
     ]
    }
   ],
   "source": [
    "import numpy as np\n",
    "import os\n",
    "import random\n",
    "import tqdm\n",
    "import math\n",
    "\n",
    "from scripts.audio_file import AudioFile"
   ]
  },
  {
   "cell_type": "code",
   "execution_count": 2,
   "outputs": [],
   "source": [
    "# collect paths of all audio tracks with positive words\n",
    "marvin_path = '../data/raw/SpeechDataset/marvin/'\n",
    "marvin_filenames = [marvin_path + p for p in os.listdir(marvin_path)]\n",
    "\n",
    "# select excluded filenames, and get available negative words\n",
    "exclude = ['_background_noise_', 'marvin', 'LICENSE', 'README.md',\n",
    "           'testing_list.txt', 'validation_list.txt']\n",
    "speechdata_path = '../data/raw/SpeechDataset/'\n",
    "negative_words = [n for n in os.listdir(speechdata_path)\n",
    "                  if n not in exclude]\n",
    "\n",
    "# collect paths of all audio tracks with negative words\n",
    "nw_filenames = []\n",
    "for nw in negative_words:\n",
    "    filenames = [speechdata_path + nw + '/' + file\n",
    "                 for file in os.listdir(speechdata_path + nw)]\n",
    "    nw_filenames += filenames"
   ],
   "metadata": {
    "collapsed": false,
    "pycharm": {
     "name": "#%%\n"
    }
   }
  },
  {
   "cell_type": "code",
   "execution_count": 3,
   "outputs": [
    {
     "name": "stdout",
     "output_type": "stream",
     "text": [
      "Number of marvin recordings: 2100\n",
      "Number of recordings if we augment each sample once: 4200\n",
      "Desired ratio is 1:9 between positive and negative words, \n",
      "therefore number of negative words must be: 37800\n"
     ]
    }
   ],
   "source": [
    "print('Number of marvin recordings:', len(marvin_filenames))\n",
    "print('Number of recordings if we augment each sample once:',\n",
    "      len(marvin_filenames)*2)\n",
    "print('Desired ratio is 1:9 between positive and negative words, '\n",
    "      '\\ntherefore number of negative words must be:',\n",
    "      int(len(marvin_filenames)*2 / 0.1 - len(marvin_filenames)*2))"
   ],
   "metadata": {
    "collapsed": false,
    "pycharm": {
     "name": "#%%\n"
    }
   }
  },
  {
   "cell_type": "markdown",
   "source": [
    "### Augmenting positive audio clips"
   ],
   "metadata": {
    "collapsed": false,
    "pycharm": {
     "name": "#%% md\n"
    }
   }
  },
  {
   "cell_type": "code",
   "execution_count": 6,
   "outputs": [
    {
     "name": "stdout",
     "output_type": "stream",
     "text": [
      "Augmenting positive words...\n"
     ]
    },
    {
     "name": "stderr",
     "output_type": "stream",
     "text": [
      "100%|██████████| 2100/2100 [01:48<00:00, 19.41it/s]\n"
     ]
    }
   ],
   "source": [
    "# augment positive words\n",
    "augmented_path = 'data/augmented/'\n",
    "print('Augmenting positive words...')\n",
    "for filename in tqdm.tqdm(marvin_filenames):\n",
    "    filename_end = filename.split('/')[-1]\n",
    "    m = AudioFile(filename)\n",
    "    # permissible factor values [-5, 5)\n",
    "    factor = np.random.choice(np.arange(-5.0, 5.0, 0.1))\n",
    "    m.shift_pitch(factor=factor)\n",
    "    m.save_wav(augmented_path + filename_end)\n",
    "\n",
    "# get filenames of augmented clips\n",
    "marvin_filenames_aug = [augmented_path + f for f in os.listdir(augmented_path)]"
   ],
   "metadata": {
    "collapsed": false,
    "pycharm": {
     "name": "#%%\n"
    }
   }
  },
  {
   "cell_type": "markdown",
   "source": [
    "### Stratified split"
   ],
   "metadata": {
    "collapsed": false,
    "pycharm": {
     "name": "#%% md\n"
    }
   }
  },
  {
   "cell_type": "code",
   "execution_count": 17,
   "outputs": [],
   "source": [
    "# shuffle and split each filename\n",
    "random.shuffle(marvin_filenames)\n",
    "random.shuffle(marvin_filenames_aug)\n",
    "random.shuffle(nw_filenames)\n",
    "\n",
    "# select fewer negative words\n",
    "nw_filenames_trim = nw_filenames[:37800]\n",
    "\n",
    "# split\n",
    "marvin_train_line = math.ceil(len(marvin_filenames)*0.8)\n",
    "nw_train_line = math.ceil(len(nw_filenames_trim)*0.8)\n",
    "\n",
    "marvin_val_line = math.ceil(len(marvin_filenames)*0.9)\n",
    "nw_val_line = math.ceil(len(nw_filenames_trim)*0.9)\n",
    "\n",
    "marvin_filenames_train = marvin_filenames[:marvin_train_line]\n",
    "marvin_filenames_aug_train = marvin_filenames_aug[:marvin_train_line]\n",
    "nw_filenames_train = nw_filenames_trim[:nw_train_line]\n",
    "\n",
    "marvin_filenames_val = marvin_filenames[marvin_train_line:marvin_val_line]\n",
    "marvin_filenames_aug_val = marvin_filenames_aug[marvin_train_line:marvin_val_line]\n",
    "nw_filenames_val = nw_filenames_trim[nw_train_line:nw_val_line]\n",
    "\n",
    "marvin_filenames_test = marvin_filenames[marvin_val_line:]\n",
    "marvin_filenames_aug_test = marvin_filenames_aug[marvin_val_line:]\n",
    "nw_filenames_test = nw_filenames_trim[nw_val_line:]\n",
    "\n",
    "# finally add original and augmented positive clips together\n",
    "marvin_train = marvin_filenames_train + marvin_filenames_aug_train\n",
    "marvin_val = marvin_filenames_val + marvin_filenames_aug_val\n",
    "marvin_test = marvin_filenames_test + marvin_filenames_aug_test\n",
    "\n",
    "random.shuffle(marvin_train)\n",
    "random.shuffle(marvin_val)\n",
    "random.shuffle(marvin_test)"
   ],
   "metadata": {
    "collapsed": false,
    "pycharm": {
     "name": "#%%\n"
    }
   }
  },
  {
   "cell_type": "markdown",
   "source": [
    "### Create data files"
   ],
   "metadata": {
    "collapsed": false,
    "pycharm": {
     "name": "#%% md\n"
    }
   }
  },
  {
   "cell_type": "code",
   "execution_count": 34,
   "outputs": [
    {
     "name": "stderr",
     "output_type": "stream",
     "text": [
      "100%|██████████| 4200/4200 [00:36<00:00, 113.62it/s]"
     ]
    },
    {
     "name": "stdout",
     "output_type": "stream",
     "text": [
      "22050\n"
     ]
    },
    {
     "name": "stderr",
     "output_type": "stream",
     "text": [
      "\n"
     ]
    }
   ],
   "source": [
    "# test what is the maximum length of a positive file\n",
    "for path in tqdm.tqdm(marvin_train + marvin_val + marvin_test):\n",
    "    sample = AudioFile(path)\n",
    "\n",
    "    max_length = 0\n",
    "    if sample.data.shape[0] > max_length:\n",
    "        max_length = sample.data.shape[0]\n",
    "\n",
    "print(max_length)"
   ],
   "metadata": {
    "collapsed": false,
    "pycharm": {
     "name": "#%%\n"
    }
   }
  },
  {
   "cell_type": "code",
   "execution_count": 54,
   "outputs": [],
   "source": [
    "def create_batches(files, set_name='train', batch_size=100):\n",
    "\n",
    "    for i, file in tqdm.tqdm(enumerate(files)):\n",
    "\n",
    "        if i % batch_size == 0:\n",
    "\n",
    "            # save previous batch\n",
    "            if i != 0:\n",
    "                np.save(f'data/{set_name}/X{math.ceil(i/batch_size) - 1}.npy', X_batch)\n",
    "                np.save(f'data/{set_name}/y{math.ceil(i/batch_size) - 1}.npy', y_batch)\n",
    "\n",
    "            # initiate empty batch\n",
    "            X_batch = np.zeros((batch_size, max_length, ))\n",
    "            y_batch = np.zeros((batch_size, 1))\n",
    "\n",
    "        # add 1 if positive word\n",
    "        if '/marvin/' in file or '/augmented/' in file:\n",
    "            y_batch[i % batch_size, :] = 1\n",
    "\n",
    "        # add audio data to the batch\n",
    "        clip = AudioFile(file)\n",
    "        clip_data = clip.data\n",
    "        X_batch[i % batch_size, :clip_data.shape[0], ] = clip_data\n",
    "\n",
    "    # final batch\n",
    "    X_batch = X_batch[:i % batch_size + 1, :, ]\n",
    "    y_batch = y_batch[:i % batch_size + 1, :]\n",
    "\n",
    "    np.save(f'data/{set_name}/X{math.ceil(i/batch_size) - 1}.npy', X_batch)\n",
    "    np.save(f'data/{set_name}/y{math.ceil(i/batch_size) - 1}.npy', y_batch)"
   ],
   "metadata": {
    "collapsed": false,
    "pycharm": {
     "name": "#%%\n"
    }
   }
  },
  {
   "cell_type": "code",
   "execution_count": 55,
   "outputs": [
    {
     "name": "stdout",
     "output_type": "stream",
     "text": [
      "Generating train data...\n"
     ]
    },
    {
     "name": "stderr",
     "output_type": "stream",
     "text": [
      "33600it [09:26, 59.29it/s]\n"
     ]
    },
    {
     "name": "stdout",
     "output_type": "stream",
     "text": [
      "Generating val data...\n"
     ]
    },
    {
     "name": "stderr",
     "output_type": "stream",
     "text": [
      "4200it [01:10, 59.85it/s]\n"
     ]
    },
    {
     "name": "stdout",
     "output_type": "stream",
     "text": [
      "Generating test data...\n"
     ]
    },
    {
     "name": "stderr",
     "output_type": "stream",
     "text": [
      "4200it [01:10, 59.63it/s]\n"
     ]
    }
   ],
   "source": [
    "# creating a batches of 100 samples\n",
    "train_files = marvin_train + nw_filenames_train\n",
    "val_files = marvin_val + nw_filenames_val\n",
    "test_files = marvin_test + nw_filenames_test\n",
    "\n",
    "random.shuffle(train_files)\n",
    "random.shuffle(val_files)\n",
    "random.shuffle(test_files)\n",
    "\n",
    "print('Generating train data...')\n",
    "create_batches(train_files, set_name='train', batch_size=100)\n",
    "print('Generating val data...')\n",
    "create_batches(val_files, set_name='val', batch_size=100)\n",
    "print('Generating test data...')\n",
    "create_batches(test_files, set_name='test', batch_size=100)"
   ],
   "metadata": {
    "collapsed": false,
    "pycharm": {
     "name": "#%%\n"
    }
   }
  },
  {
   "cell_type": "code",
   "execution_count": 61,
   "outputs": [],
   "source": [],
   "metadata": {
    "collapsed": false,
    "pycharm": {
     "name": "#%%\n"
    }
   }
  }
 ],
 "metadata": {
  "kernelspec": {
   "display_name": "Python 3",
   "language": "python",
   "name": "python3"
  },
  "language_info": {
   "codemirror_mode": {
    "name": "ipython",
    "version": 2
   },
   "file_extension": ".py",
   "mimetype": "text/x-python",
   "name": "python",
   "nbconvert_exporter": "python",
   "pygments_lexer": "ipython2",
   "version": "2.7.6"
  }
 },
 "nbformat": 4,
 "nbformat_minor": 0
}